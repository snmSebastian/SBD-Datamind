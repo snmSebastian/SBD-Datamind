{
 "cells": [
  {
   "cell_type": "markdown",
   "metadata": {},
   "source": [
    "# Librerias ---\n"
   ]
  },
  {
   "cell_type": "code",
   "execution_count": 1,
   "metadata": {},
   "outputs": [],
   "source": [
    "import pandas as pd\n",
    "\n",
    "#Permite buscar y recuperar una lista de nombres de archivos que coinciden con un patrón específico de nombre\n",
    "#de archivo en un directorio o en una jerarquía de directorios.\n",
    "import glob\n",
    "\n",
    "import numpy as np\n",
    "import os\n",
    "from datetime import datetime, timedelta\n"
   ]
  },
  {
   "cell_type": "markdown",
   "metadata": {},
   "source": [
    "# Extracción datos"
   ]
  },
  {
   "cell_type": "code",
   "execution_count": 2,
   "metadata": {},
   "outputs": [],
   "source": [
    "\n",
    "\n",
    "#. utilizamos la función glob para crear una lista de rutas de archivo que coinciden con el patrón *Chile Mensual*.csv\n",
    "#. en el directorio path_chi_men. Esto nos da una lista de todas las rutas de archivo que cumplen con el patrón en el\n",
    "#. directorio.\n",
    "\n",
    "\n",
    "#_______________________\n",
    "#--- AMAZON \n",
    "#_______________________\n",
    "\n",
    "\n",
    "#-------BRASIL ------------\n",
    "paht_data_historica_amz_bra= r'C:\\Users\\SSN0609\\OneDrive - Stanley Black & Decker\\Data Mercado Libre - Amazon\\Amazon_Vendor_Data\\new_sales_input\\Brazil\\Sales_Manufacturing'\n",
    "all_files_amz_bra = glob.glob(paht_data_historica_amz_bra + \"/*Sales_Manufacturing_Retail_Brazil*.csv\")\n",
    "\n",
    "#-------MEXICO ------------\n",
    "paht_data_historica_amz_mex= r'C:\\Users\\SSN0609\\OneDrive - Stanley Black & Decker\\Data Mercado Libre - Amazon\\Amazon_Vendor_Data\\new_sales_input\\Mexico\\Sales_Manufacturing'\n",
    "all_files_amz_mex = glob.glob(paht_data_historica_amz_mex + \"/*Sales_Manufacturing_Retail_Mexico*.csv\")\n",
    "\n",
    "\n",
    "#____MERCADO LIBRE_________\n",
    "\n",
    "paht_data_historica_meli= r'C:\\Users\\SSN0609\\OneDrive - Stanley Black & Decker\\Data Mercado Libre - Amazon\\meli_historic_data\\historic_data_meli2.csv'\n",
    "\n",
    "\n",
    "\n"
   ]
  },
  {
   "cell_type": "markdown",
   "metadata": {},
   "source": [
    "## Append listas"
   ]
  },
  {
   "cell_type": "code",
   "execution_count": 3,
   "metadata": {},
   "outputs": [],
   "source": [
    "#. Leer cada archivo y agregarlos a una lista:\n",
    "\n",
    "\n",
    "#_______________________\n",
    "#--- AMAZON \n",
    "#_______________________\n",
    "ls_amz_bra = []\n",
    "ls_amz_mex = []\n",
    "\n",
    "# Se anexan los archivos en una sola lista\n",
    "\n",
    "for filename in all_files_amz_bra:\n",
    "    df = pd.read_csv(filename, index_col=None, header=1,dtype=str)\n",
    "     # Obtener el nombre del archivo sin la extensión\n",
    "    file_name = os.path.splitext(os.path.basename(filename))[0]\n",
    "    # Agregar una nueva columna con el nombre del archivo\n",
    "    df['Archivo'] = file_name\n",
    "    ls_amz_bra.append(df)\n",
    "\n",
    "\n",
    "for filename in all_files_amz_mex:\n",
    "    df = pd.read_csv(filename, index_col=None, header=1,dtype=str)\n",
    "    # Obtener el nombre del archivo sin la extensión\n",
    "    file_name = os.path.splitext(os.path.basename(filename))[0]\n",
    "    # Agregar una nueva columna con el nombre del archivo\n",
    "    df['Archivo'] = file_name\n",
    "    ls_amz_mex.append(df)\n"
   ]
  },
  {
   "cell_type": "markdown",
   "metadata": {},
   "source": [
    "## lista a Dataframe"
   ]
  },
  {
   "cell_type": "code",
   "execution_count": 4,
   "metadata": {},
   "outputs": [],
   "source": [
    "\n",
    "#_______________________\n",
    "#--- AMAZON \n",
    "#_______________________\n",
    "df_amz_bra = pd.concat(ls_amz_bra, axis=0, ignore_index=True)\n",
    "df_amz_mex = pd.concat(ls_amz_mex, axis=0, ignore_index=True)\n",
    "\n",
    "\n",
    "#_______________________\n",
    "#--- MERCADO LIBRE\n",
    "#_______________________\n",
    "#df_meli = pd.read_csv(paht_data_historica_meli, dtype=str, encoding='latin-1',sep=\";\", quotechar='\"')\n",
    "\n",
    "df_meli = pd.read_csv(paht_data_historica_meli, dtype=str, encoding='UTF-8',sep=\",\", quotechar='\"',decimal='.')\n"
   ]
  },
  {
   "cell_type": "code",
   "execution_count": 5,
   "metadata": {},
   "outputs": [
    {
     "name": "stdout",
     "output_type": "stream",
     "text": [
      "amz_bra:52110\n",
      "amz_mex:35346\n",
      "amz:87456\n",
      "meli1099215\n"
     ]
    }
   ],
   "source": [
    "print(f\"amz_bra:{len(df_amz_bra)}\\namz_mex:{len(df_amz_mex)}\\namz:{len(df_amz_bra)+len(df_amz_mex)}\\nmeli{len(df_meli)}\")"
   ]
  },
  {
   "cell_type": "code",
   "execution_count": 6,
   "metadata": {},
   "outputs": [],
   "source": [
    "#_______________________\n",
    "#--- AMAZON \n",
    "#_______________________\n",
    "df_amz_bra['Date'] = df_amz_bra['Archivo'].apply(lambda x:x[-6:] if len(x) >= 5 else None)\n",
    "df_amz_bra['Tipo de dato'] ='sem'\n",
    "\n",
    "df_amz_mex['Date'] = df_amz_mex['Archivo'].apply(lambda x:x[-6:] if len(x) >= 5 else None)\n",
    "df_amz_mex['Tipo de dato'] ='sem'\n",
    "\n",
    "df_amz_mex=df_amz_mex[~df_amz_mex['Date'].str.startswith('2024')]\n",
    "df_amz_bra=df_amz_bra[~df_amz_bra['Date'].str.startswith('2024')]\n",
    "\n",
    "df_amz_bra['Country'] ='Brasil'\n",
    "df_amz_mex['Country'] = 'Mexico'\n",
    "\n",
    "#se concatena la informacion de brasil y mexico\n",
    "df_amz=pd.concat([df_amz_bra,df_amz_mex])\n",
    "\n",
    "\n",
    "#_______________________\n",
    "#--- MERCADO LIBRE\n",
    "#_______________________\n",
    "df_meli['YEAR'] = df_meli['YEAR'].astype(str)\n",
    "df_meli['WEEK'] = df_meli['WEEK'].astype(str)\n",
    "df_meli['Date'] = df_meli['YEAR']+df_meli['WEEK']\n",
    "df_meli['Tipo de dato']='sem'\n",
    "\n",
    "df_meli=df_meli[df_meli['Date'].str.startswith('2023')]\n",
    "\n",
    "\n",
    "df_meli['COUNTRY'] = df_meli['COUNTRY'].str.strip().str.capitalize()\n",
    "df_meli.rename(columns={'COUNTRY': 'Country'}, inplace=True)\n",
    "\n",
    "conditions = [\n",
    "    df_meli['Country'] == 'Brazil',\n",
    "    df_meli['Country'] == 'México',    \n",
    "    df_meli['Country'] == 'Mexico',\n",
    "    df_meli['Country'] == 'MÃ©xico',\n",
    "    df_meli['Country'] == 'Peru',\n",
    "    df_meli['Country'] == 'Perú',\n",
    "    df_meli['Country'] == 'PerÃº',\n",
    "    \n",
    "]\n",
    "choices = [\n",
    "    'Brasil',\n",
    "    'Mexico',\n",
    "    'Mexico',\n",
    "    'MÃ©xico',\n",
    "    'Peru',\n",
    "    'Peru',\n",
    "    'PerÃº'\n",
    "]\n",
    "df_meli['Country'] = np.select(conditions, choices, default=df_meli['Country'])\n",
    "\n"
   ]
  },
  {
   "cell_type": "code",
   "execution_count": 7,
   "metadata": {},
   "outputs": [
    {
     "name": "stdout",
     "output_type": "stream",
     "text": [
      "amz:67490\n",
      "meli496227\n"
     ]
    }
   ],
   "source": [
    "print(f\"amz:{len(df_amz)}\\nmeli{len(df_meli)}\")"
   ]
  },
  {
   "cell_type": "markdown",
   "metadata": {},
   "source": [
    "## Transformacion"
   ]
  },
  {
   "cell_type": "code",
   "execution_count": 8,
   "metadata": {},
   "outputs": [],
   "source": [
    "\n",
    "#_______________________\n",
    "#--- AMAZON \n",
    "#_______________________\n",
    "rename_col_amz={'ASIN':'(I) Código Producto Interno',\n",
    "            'Product Title':'(I) Producto Interno',\n",
    "            'Brand':'(I) MARCA',\n",
    "            'Shipped Units':'Unidades vendidas',\n",
    "            'Shipped Revenue':'Venta bruta'}\n",
    "df_amz.rename(columns=rename_col_amz,inplace=True)\n",
    "#df_amz.columns\n",
    "\n",
    "#_______________________\n",
    "#--- MERCADO LIBRE \n",
    "#_______________________\n",
    "rename_col_meli={'marca':'(I) MARCA',\n",
    "                 'PRODUCT_NAME':'(I) Producto Interno',\n",
    "                 'MODEL':'(I) Código Producto Interno',\n",
    "                 'TSI_FCST':'Unidades vendidas',\n",
    "                 'TGMV_FCST':'Venta bruta'}\n",
    "df_meli.rename(columns=rename_col_meli,inplace=True)\n"
   ]
  },
  {
   "cell_type": "markdown",
   "metadata": {},
   "source": [
    "### Columns df_amz df_meli"
   ]
  },
  {
   "cell_type": "code",
   "execution_count": 9,
   "metadata": {},
   "outputs": [],
   "source": [
    "# se escojen las columnas comunes a la informacion que suministra datamind\n",
    "\n",
    "#_______________________\n",
    "#--- AMAZON \n",
    "#_______________________\n",
    "cols=['(I) Código Producto Interno', '(I) Producto Interno', 'Venta bruta', \n",
    "       'Unidades vendidas', '(I) MARCA','Country', 'Date','Tipo de dato']\n",
    "\n",
    "df_amz =df_amz[cols]\n",
    "\n",
    "#Se ordenan segun el orden de datamind\n",
    "order_col=['Date','(I) MARCA','(I) Producto Interno','(I) Código Producto Interno','Venta bruta','Unidades vendidas','Tipo de dato','Country']\n",
    "df_amz = df_amz.reindex(columns=order_col)\n",
    "\n",
    "#_______________________\n",
    "#--- MERCADO LIBRE \n",
    "#_______________________\n",
    "\n",
    "df_meli =df_meli[cols]\n",
    "df_meli = df_meli.reindex(columns=order_col)\n"
   ]
  },
  {
   "cell_type": "code",
   "execution_count": 10,
   "metadata": {},
   "outputs": [],
   "source": [
    "col_chi=(['num_fila',\n",
    "       'Date',\n",
    "       '(L) Retailer',\n",
    "       '(L) Local',\n",
    "       '(L) Cadena',\n",
    "       'canal_venta',\n",
    "       '(I) SBU', \n",
    "       '(I) MARCA',\n",
    "       '(E) Marca',\n",
    "       '(I) NPI',\n",
    "       '(I) GPP Division',\n",
    "       '(I) GPP Division Cod.',\n",
    "       '(I) GPP Category',\n",
    "       '(I) GPP Category Cod.',\n",
    "       '(I) GPP Portfolio',\n",
    "       '(I) GPP Portfolio Cod.',\n",
    "       '(I) Producto Interno', \n",
    "       '(I) Código Producto Interno',\n",
    "       '(I) OGSM Strategy',\n",
    "       '(I) CORD / CORDLESS / COMB / NEUM',\n",
    "       'Venta neta',\n",
    "       'Venta bruta',\n",
    "       'Venta costo',\n",
    "       'Unidades vendidas',\n",
    "       'Volumen vendido (Capacidad 1)',\n",
    "       'Precio Publico Estimado',\n",
    "       'Tipo de dato', \n",
    "       'Country',\n",
    "       'concat_update',\n",
    "       'concat_update_meli_amz'])"
   ]
  },
  {
   "cell_type": "markdown",
   "metadata": {},
   "source": [
    "### columna vacia"
   ]
  },
  {
   "cell_type": "code",
   "execution_count": 11,
   "metadata": {},
   "outputs": [],
   "source": [
    "\n",
    "#_______________________\n",
    "#--- AMAZON \n",
    "#_______________________\n",
    "\n",
    "#Funcion que inserta columna vacia \n",
    "def crear_columnas_vacias(df, columnas, posiciones):\n",
    "    for col, pos in zip(columnas, posiciones):\n",
    "        df.insert(loc=pos, column=col, value='')\n",
    "columnas_vacias = [\"vacia0\",\n",
    "                    \"vacia2\", \"vacia3\", \"vacia4\", \"vacia5\", \"vacia6\",\n",
    "                    \"vacia8\",\"vacia9\",\"vacia10\",\"vacia11\",\"vacia12\",\"vacia13\",\"vacia14\",\"vacia15\",\n",
    "                    \"vacia18\",\"vacia19\",\"vacia20\"\n",
    "                    \"vacia22\",\n",
    "                    \"vacia24\",\"vacia25\",\n",
    "                    \"vacia28\",\"vacia29\"]\n",
    "posiciones = [0, 2, 3,4,5,6,8,9,10,11,12,13,14,15,18,19,20,22,24,25,28,29]\n",
    "\n",
    "crear_columnas_vacias(df_amz, columnas_vacias, posiciones)\n",
    "\n",
    "\n",
    "#_______________________\n",
    "#---  MERCADO LIBRE \n",
    "#_______________________\n",
    "#Funcion que inserta columna vacia \n",
    "def crear_columnas_vacias(df, columnas, posiciones):\n",
    "    for col, pos in zip(columnas, posiciones):\n",
    "        df.insert(loc=pos, column=col, value='')\n",
    "\n",
    "\n",
    "crear_columnas_vacias(df_meli, columnas_vacias, posiciones)\n"
   ]
  },
  {
   "cell_type": "markdown",
   "metadata": {},
   "source": [
    "### Rename columna"
   ]
  },
  {
   "cell_type": "code",
   "execution_count": 12,
   "metadata": {},
   "outputs": [],
   "source": [
    "\n",
    "#_______________________\n",
    "#--- AMAZON \n",
    "#_______________________\n",
    "col_amz=df_amz.columns.to_list()\n",
    "\n",
    "dict_renombres_amz = {nombre_amz: nombre_chi for nombre_amz, nombre_chi in zip(col_amz, col_chi)}\n",
    "df_amz.rename(columns=dict_renombres_amz, inplace=True)  # renombrar las columnas utilizando el diccionario\n",
    "\n",
    "#_______________________\n",
    "#--- MERCADO LIBRE \n",
    "#_______________________\n",
    "col_meli=df_meli.columns.to_list()\n",
    "\n",
    "dict_renombres_meli = {nombre_meli: nombre_chi for nombre_meli, nombre_chi in zip(col_meli, col_chi)}\n",
    "df_meli.rename(columns=dict_renombres_meli, inplace=True)  # renombrar las columnas utilizando el diccionario\n"
   ]
  },
  {
   "cell_type": "markdown",
   "metadata": {},
   "source": [
    "## Completar columnas"
   ]
  },
  {
   "cell_type": "code",
   "execution_count": 13,
   "metadata": {},
   "outputs": [
    {
     "data": {
      "text/plain": [
       "array(['R$574,935.93', 'R$173,064.85', 'R$66,409.17', ..., 'R$236.61',\n",
       "       'R$224.05', 'R$34.92'], dtype=object)"
      ]
     },
     "execution_count": 13,
     "metadata": {},
     "output_type": "execute_result"
    }
   ],
   "source": [
    "df_amz_bra['Shipped Revenue'].unique()"
   ]
  },
  {
   "cell_type": "code",
   "execution_count": 14,
   "metadata": {},
   "outputs": [],
   "source": [
    "\n",
    "#_______________________\n",
    "#--- AMAZON \n",
    "#_______________________\n",
    "df_amz['(L) Retailer'] = 'Amazon'\n",
    "df_amz['canal_venta']='E-commerce'\n",
    "\n",
    "#--------- VENTA NETA ---------------\n",
    "\n",
    "#Tratamiento de quitar letras al valor\n",
    "\n",
    "df_amz['Venta bruta'] = df_amz['Venta bruta'].astype(str)\n",
    "\n",
    "df_amz['Venta bruta'] = df_amz['Venta bruta'].str.replace(r'^MX\\$', '', regex=True)\n",
    "df_amz['Venta bruta'] = df_amz['Venta bruta'].str.replace(r'^R\\$', '', regex=True)\n",
    "df_amz['Venta bruta'] = df_amz['Venta bruta'].str.replace(',', '').fillna('0').astype(float)\n",
    "df_amz['Venta neta'] = df_amz['Venta neta'].str.replace('','0').fillna('0').astype(float)\n",
    "#_______________________\n",
    "#--- MERCADO LIBRE \n",
    "#_______________________\n",
    "\n",
    "df_meli['(L) Retailer'] = 'Mercado Libre'\n",
    "df_meli['canal_venta'] ='E-commerce'\n",
    "\n",
    "#--------- VENTA NETA ---------------\n",
    "df_meli['Venta bruta'] = df_meli['Venta bruta'].str.replace(',', '.').fillna('0').astype(float)\n",
    "df_meli['Venta neta'] =df_meli['Venta neta'].str.replace('','0').fillna('0').astype(float)"
   ]
  },
  {
   "cell_type": "code",
   "execution_count": 15,
   "metadata": {},
   "outputs": [
    {
     "name": "stdout",
     "output_type": "stream",
     "text": [
      "amazon\n",
      "\n",
      "vacio_neta_amz:67490\n",
      "vacio bruta amz:0\n",
      "num neta_amz:0\n",
      "num bruta amz:67490\n",
      "total amz :67490= 67490\n",
      "\n",
      "meli\n",
      "\n",
      "vacio_neta meli:496227\n",
      "vacio bruta amz:15649\n",
      "num_neta meli:0\n",
      "num bruta meli:480578\n",
      "total meli :496227= 496227\n",
      "\n",
      "total vacios meli_amz\n",
      "\n",
      "total vacios neta meli_amz:496227\n",
      "total vacios bruta meli_amz:15649\n",
      "\n",
      "total nums meli_amz\n",
      "\n",
      "total num neta meli_amz:67490\n",
      "total num bruta meli_amz:548068\n",
      "\n",
      "total registros meli_amz\n",
      "total num neta meli_amz:563717\n"
     ]
    }
   ],
   "source": [
    "vacio_bruta_amz= df_amz.loc[df_amz['Venta bruta']==0]\n",
    "num_bruta_amz=df_amz.loc[df_amz['Venta bruta']!=0]\n",
    "\n",
    "vacio_neta_amz= df_amz.loc[df_amz['Venta neta']==0]\n",
    "num_neta_amz=df_amz.loc[df_amz['Venta neta']!=0]\n",
    "\n",
    "\n",
    "vacio_bruta_meli= df_meli.loc[df_meli['Venta bruta']==0]\n",
    "num_bruta_meli=df_meli.loc[df_meli['Venta bruta']!=0]\n",
    "\n",
    "\n",
    "vacio_neta_meli= df_meli.loc[df_meli['Venta neta']==0]\n",
    "num_neta_meli=df_meli.loc[df_meli['Venta neta']!=0]\n",
    "\n",
    "print(\"amazon\\n\")\n",
    "print(f\"vacio_neta_amz:{len(vacio_neta_amz)}\\nvacio bruta amz:{len(vacio_bruta_amz)}\")\n",
    "print(f\"num neta_amz:{len(num_neta_amz)}\\nnum bruta amz:{len(num_bruta_amz)}\")\n",
    "print(f\"total amz :{len(num_bruta_amz)+len(vacio_bruta_amz)}= {len(df_amz)}\\n\")\n",
    "\n",
    "print(\"meli\\n\")\n",
    "print(f\"vacio_neta meli:{len(vacio_neta_meli)}\\nvacio bruta amz:{len(vacio_bruta_meli)}\")\n",
    "print(f\"num_neta meli:{len(num_neta_meli)}\\nnum bruta meli:{len(num_bruta_meli)}\")\n",
    "print(f\"total meli :{len(num_neta_meli)+len(vacio_neta_meli)}= {len(df_meli)}\\n\")\n",
    "\n",
    "print(\"total vacios meli_amz\\n\")\n",
    "print(f\"total vacios neta meli_amz:{len(vacio_bruta_amz)+len(vacio_neta_meli)}\")\n",
    "print(f\"total vacios bruta meli_amz:{len(vacio_bruta_amz)+len(vacio_bruta_meli)}\\n\")\n",
    "\n",
    "\n",
    "print(\"total nums meli_amz\\n\")\n",
    "print(f\"total num neta meli_amz:{len(num_bruta_amz)+len(num_neta_meli)}\")\n",
    "print(f\"total num bruta meli_amz:{len(num_bruta_amz)+len(num_bruta_meli)}\\n\")\n",
    "\n",
    "\n",
    "print(\"total registros meli_amz\")\n",
    "print(f\"total num neta meli_amz:{len(df_amz)+len(df_meli)}\")\n"
   ]
  },
  {
   "cell_type": "code",
   "execution_count": 16,
   "metadata": {},
   "outputs": [
    {
     "data": {
      "text/plain": [
       "Country\n",
       "Argentina    0.0\n",
       "Brasil       0.0\n",
       "Chile        0.0\n",
       "Colombia     0.0\n",
       "Ecuador      0.0\n",
       "Mexico       0.0\n",
       "Peru         0.0\n",
       "Uruguay      0.0\n",
       "Name: Venta neta, dtype: float64"
      ]
     },
     "execution_count": 16,
     "metadata": {},
     "output_type": "execute_result"
    }
   ],
   "source": [
    "df_meli.groupby('Country')['Venta neta'].sum()\n"
   ]
  },
  {
   "cell_type": "code",
   "execution_count": 17,
   "metadata": {},
   "outputs": [],
   "source": [
    "df_meli_amz= pd.concat([df_meli,df_amz])"
   ]
  },
  {
   "cell_type": "code",
   "execution_count": 18,
   "metadata": {},
   "outputs": [
    {
     "name": "stdout",
     "output_type": "stream",
     "text": [
      "total vacios meli_amz\n",
      "\n",
      "total vacios neta meli_amz:563717\n",
      "total vacios bruta meli_amz:15649\n",
      "\n",
      "total nums meli_amz\n",
      "\n",
      "total num neta meli_amz:0\n",
      "total num bruta meli_amz:548068\n",
      "\n",
      "total registros meli_amz\n",
      "total num neta meli_amz:563717=563717\n",
      "563717\n"
     ]
    }
   ],
   "source": [
    "vacio_bruta_meli_amz= df_meli_amz.loc[df_meli_amz['Venta bruta']==0]\n",
    "num_bruta_meli_amz=df_meli_amz.loc[df_meli_amz['Venta bruta']!=0]\n",
    "\n",
    "vacio_neta_meli_amz= df_meli_amz.loc[df_meli_amz['Venta neta']==0]\n",
    "num_neta_meli_amz=df_meli_amz.loc[df_meli_amz['Venta neta']!=0]\n",
    "\n",
    "\n",
    "\n",
    "print(\"total vacios meli_amz\\n\")\n",
    "print(f\"total vacios neta meli_amz:{len(vacio_neta_meli_amz)}\")\n",
    "print(f\"total vacios bruta meli_amz:{len(vacio_bruta_meli_amz)}\\n\")\n",
    "\n",
    "\n",
    "print(\"total nums meli_amz\\n\")\n",
    "print(f\"total num neta meli_amz:{len(num_neta_meli_amz)}\")\n",
    "print(f\"total num bruta meli_amz:{len(num_bruta_meli_amz)}\\n\")\n",
    "\n",
    "\n",
    "print(\"total registros meli_amz\")\n",
    "print(f\"total num neta meli_amz:{len(df_amz)+len(df_meli)}={len(df_meli_amz)}\")\n",
    "print(f\"{len(num_neta_meli_amz)+len(vacio_neta_meli_amz)}\")"
   ]
  },
  {
   "cell_type": "markdown",
   "metadata": {},
   "source": [
    "# Tratamiento columnas"
   ]
  },
  {
   "cell_type": "markdown",
   "metadata": {},
   "source": [
    "Se hace tratamiento de las columnas que se usaran para el posterior proceso de tratamiento para mexico"
   ]
  },
  {
   "cell_type": "code",
   "execution_count": 19,
   "metadata": {},
   "outputs": [],
   "source": [
    "\n",
    "df_meli_amz['Date'] = df_meli_amz['Date'].astype(str)\n",
    "\n",
    "df_meli_amz['(I) MARCA'] = df_meli_amz['(I) MARCA'].astype(str).str.lower().fillna('vacio').replace('nan','vacio')\n",
    "\n",
    "df_meli_amz['(I) Código Producto Interno'] = df_meli_amz['(I) Código Producto Interno'].astype(str).str.lower()\n",
    "\n",
    "df_meli_amz['Date'] = df_meli_amz['Date'].apply(lambda x: x[:4] + '0' + x[4:] if len(x) == 5 else x)\n"
   ]
  },
  {
   "cell_type": "code",
   "execution_count": 20,
   "metadata": {},
   "outputs": [],
   "source": [
    "\n",
    "#--- TRATAMIENTO NULOS\n",
    "def vacios_str(columna):\n",
    "  return columna.fillna('0').replace('', '0')\n",
    "\n",
    "columnas_object = list(df_meli_amz.select_dtypes(include=['object']).columns)\n",
    "\n",
    "for columna in columnas_object:\n",
    "  df_meli_amz[columna] = vacios_str(df_meli_amz[columna])\n",
    "\n",
    "def vacios_float(columna):\n",
    "  return columna.fillna(0)\n",
    "columnas_float = list(df_meli_amz.select_dtypes(include=['float']).columns)\n",
    "for columna in columnas_float:\n",
    "  df_meli_amz[columna] = vacios_float(df_meli_amz[columna])\n",
    "col_0=['Venta costo', 'Volumen vendido (Capacidad 1)', 'Precio Publico Estimado']\n",
    "df_meli_amz.loc[:, col_0] = '0'"
   ]
  },
  {
   "cell_type": "markdown",
   "metadata": {},
   "source": [
    "## Marcas"
   ]
  },
  {
   "cell_type": "code",
   "execution_count": 21,
   "metadata": {},
   "outputs": [
    {
     "name": "stdout",
     "output_type": "stream",
     "text": [
      "sbu\n"
     ]
    }
   ],
   "source": [
    "lst_marca= [  \n",
    " 'facom', 'iar expert', 'powers', 'troy-bilt', 'yard machine', 'no usar' ,\n",
    " 'stanley', 'dewalt', 'black+decker', 'irwin', 'proto','bostitch', 'fatmax', 'porter cable', \n",
    "'lenox', 'craftsman',   'gridest' \n",
    "]\n",
    "\n",
    "\n",
    "#_______________________\n",
    "#--- Asignacion\n",
    "#_______________________\n",
    "\n",
    "correspondencias = {\n",
    "    'black+decker': ['b/d','black & de', 'black and decker', 'black&decker', 'black & decker', 'black+decker', 'black+deck', 'black + decker', 'b&d', 'b+d', 'black decker', 'black-d', 'black&deck'],\n",
    "    'dewalt': ['dewalt', 'de walt'],\n",
    "    'fatmax': ['stanley fatmax', 'fat max', 'fatmax'],\n",
    "    'bostitch': ['bosch', 'bostitch', 'bostitch office'],\n",
    "    'craftsman':['craftsman','craftman'],\n",
    "    'no usar': ['einhell','sierra','geo','samoa','smart','no usar']\n",
    "}\n",
    "\n",
    "df_meli_amz['(I) MARCA'] = df_meli_amz['(I) MARCA'].apply(lambda x: next((clave for clave, valor in correspondencias.items() if x in valor), x))\n",
    "df_meli_amz['(I) MARCA'] =df_meli_amz['(I) MARCA'].apply(lambda x:'other' if x not in lst_marca else x)\n",
    "df_meli_amz['(I) MARCA'] =df_meli_amz['(I) MARCA'].str.upper()\n",
    "\n",
    "\n",
    "#______________________________\n",
    "#-- TRATAMIENTO MARCAS OTHERS\n",
    "#______________________________\n",
    "df_meli_amz['(I) Producto Interno']=df_meli_amz['(I) Producto Interno'].str.lower().str.strip()\n",
    "df_meli_amz['(I) MARCA']=df_meli_amz['(I) MARCA'].str.lower().str.strip()\n",
    "\n",
    "#reasigno marca a aquellos que estas como other basado en la descripcion del producto\n",
    "def assign_brand(description, current_brand):    \n",
    "    if current_brand == 'other':  # Apply logic only if current brand is 'other'\n",
    "        for brand, keywords in correspondencias.items():\n",
    "            if any(keyword in description.lower() for keyword in keywords):\n",
    "                return brand\n",
    "    return current_brand  # Return the existing brand if not 'other'\n",
    "\n",
    "# Apply the function to 'descripcion' column using 'marca' as the argument\n",
    "df_meli_amz['(I) MARCA'] = df_meli_amz[['(I) Producto Interno', '(I) MARCA']].apply(lambda row: assign_brand(row['(I) Producto Interno'], row['(I) MARCA']), axis=1)\n",
    "\n",
    "#_______________\n",
    "#----- SBU  ----\n",
    "#_______________\n",
    " \n",
    "df_meli_amz['(I) SBU'] = df_meli_amz['(I) SBU'].fillna('oth').replace(['','0',' ','no definido','vacio','nan'], 'oth')\n",
    "print(\"sbu\")\n"
   ]
  },
  {
   "cell_type": "markdown",
   "metadata": {},
   "source": [
    "# Columna update\n"
   ]
  },
  {
   "cell_type": "code",
   "execution_count": 22,
   "metadata": {},
   "outputs": [],
   "source": [
    "df_meli_amz['concat_update_meli_amz'] = df_meli_amz['Country']+df_meli_amz['(L) Retailer']+df_meli_amz['Tipo de dato']+df_meli_amz['Date']\n",
    "df_meli_amz['concat_update'] = df_meli_amz['concat_update'].str.lower().str.strip()"
   ]
  },
  {
   "cell_type": "markdown",
   "metadata": {},
   "source": [
    "# Calendar"
   ]
  },
  {
   "cell_type": "code",
   "execution_count": 23,
   "metadata": {},
   "outputs": [],
   "source": [
    "from datetime import datetime as dt\n",
    "from datetime import datetime, timedelta\n",
    "from isoweek import Week\n",
    "\n",
    "from datetime import datetime as dt\n",
    "def get_date_from_year_week(year_week):\n",
    "    year = int(year_week[:4])\n",
    "    week = int(year_week[4:])\n",
    "    # Obtener la fecha del primer día de la semana\n",
    "    first_day_of_week = Week(year, week).monday()\n",
    "    # Agregar 1 día para obtener la fecha del lunes de esa semana\n",
    "    #date = first_day_of_week + timedelta(days=1)\n",
    "    # Formatear la fecha en el formato deseado\n",
    "    return first_day_of_week.strftime('%m-%d-%Y')\n",
    "\n",
    "def get_date_from_year_month(year_month):\n",
    "    year = int(year_month[:4])\n",
    "    month = int(year_month[4:])\n",
    "    # Obtener la fecha del primer día del mes\n",
    "    date = datetime(year, month, 1)\n",
    "    # Formatear la fecha en el formato deseado\n",
    "    return date.strftime('%m-%d-%Y')\n",
    "\n",
    "\n",
    "# Aplicar las funciones lambda al dataframe\n",
    "df_meli_amz['Fecha']=''\n",
    "#df_meli_amz = df_meli_amz.fillna('')\n",
    "df_meli_amz.loc[(df_meli_amz['Tipo de dato'] == 'sem') & (df_meli_amz['Fecha'] == ''), 'Fecha'] = df_meli_amz.loc[df_meli_amz['Tipo de dato'] == 'sem', 'Date'].apply(get_date_from_year_week)\n",
    "df_meli_amz.loc[(df_meli_amz['Tipo de dato'] == 'men') & (df_meli_amz['Fecha'] == ''), 'Fecha'] = df_meli_amz.loc[df_meli_amz['Tipo de dato'] == 'men', 'Date'].apply(get_date_from_year_month)\n"
   ]
  },
  {
   "cell_type": "code",
   "execution_count": 24,
   "metadata": {},
   "outputs": [
    {
     "name": "stdout",
     "output_type": "stream",
     "text": [
      "holder\n"
     ]
    }
   ],
   "source": [
    "#_________________________________________________\n",
    "#---------- HOLDER ---------------------------\n",
    "#_________________________________________________\n",
    "df_meli_amz['(L) Retailer']=df_meli_amz['(L) Retailer'].str.lower()\n",
    "df_meli_amz['Holder']=''\n",
    "notacion_holder = {\n",
    "    'mercado libre': ['mercadolibre', 'mercado libre multivende', 'mercado libre spiral', 'mercado libre spiral ar'],\n",
    "    'amazon': ['amazon mx']}\n",
    "  \n",
    "notacion_pais = {\n",
    "    'Mexico': 'MX',\n",
    "    'México':'MX',\n",
    "    'Chile': 'CH',\n",
    "    'Argentina': 'AR',\n",
    "    'Uruguay': 'UR',\n",
    "    'Peru': 'PE',\n",
    "    'Perú': 'PE',\n",
    "    'Brazil': 'BR',\n",
    "    'Brasil': 'BR',\n",
    "     'Ecuador': 'EC',\n",
    "     'Colombia':'CO'\n",
    "    \n",
    "}\n",
    "notacion_holder_invertido = {value: key for key, values in notacion_holder.items() for value in values}\n",
    "\n",
    "lst = ['mercado libre', 'sodimac', 'walmart', 'the home depot', 'easy', 'amazon']\n",
    "\n",
    "def holder(row):\n",
    "    pais = notacion_pais.get(row['Country'], row['Country'])\n",
    "    retailer = notacion_holder_invertido.get(row['(L) Retailer'].lower(), row['(L) Retailer'])\n",
    "    \n",
    "    local = row['(L) Local'].lower()\n",
    "    retailer = retailer.lower()\n",
    "\n",
    "    if pais == 'CH' and retailer == 'mercado libre' and local in ['fcom fcom', 'fcom']:\n",
    "        retailer = 'falabella'\n",
    "    elif pais == 'CH' and retailer == 'mercado libre' and local in[ 'paris paris','paris']:\n",
    "        retailer = 'paris'\n",
    "\n",
    "    if retailer in lst:\n",
    "        return retailer + ' ' + pais\n",
    "    else:\n",
    "        return retailer    \n",
    "df_meli_amz['Holder'] = df_meli_amz.apply(holder, axis=1)\n",
    "print(\"holder\")\n"
   ]
  },
  {
   "cell_type": "code",
   "execution_count": 26,
   "metadata": {},
   "outputs": [
    {
     "name": "stdout",
     "output_type": "stream",
     "text": [
      "ok\n"
     ]
    }
   ],
   "source": [
    "\n",
    "#___________________________\n",
    "#VENTA USD \n",
    "#___________________________\n",
    "\n",
    "df_meli_amz['fecha_my'] = pd.to_datetime(df_meli_amz['Fecha']).dt.strftime('%m%Y')\n",
    "\n",
    "ruta_gto_net = r'C:\\Users\\SSN0609\\OneDrive - Stanley Black & Decker\\Dashboards LAG\\Data Flow\\Shares Information for Projects\\GsTo_Net\\GtoNet.xlsx'\n",
    "\n",
    "df_gto_net = pd.read_excel(ruta_gto_net)\n",
    "df_gto_net.drop_duplicates(subset=['Fecha', 'Country'], inplace=True) # Agregar inplace=True para modificar el dataframe original\n",
    "df_gto_net['Fecha'] = pd.to_datetime(df_gto_net['Fecha'])\n",
    "df_gto_net['fecha_my'] = df_gto_net['Fecha'].dt.strftime('%m%Y')\n",
    "df_gto_net = df_gto_net[df_gto_net['Country'].isin(df_meli_amz['Country']) \n",
    "                          & df_gto_net['fecha_my'].isin(df_meli_amz['fecha_my'])]\n",
    "\n",
    "df_meli_amz = pd.merge(df_meli_amz, df_gto_net[['fecha_my', 'Country', 'GTN%']], on=[\"fecha_my\", \"Country\"], how='left')\n",
    "df_meli_amz['GTN%'] = df_meli_amz['GTN%'].fillna(0)\n",
    "\n",
    "\n",
    "meli_amz_mask = (df_meli_amz['(L) Retailer'] != '0') & (df_meli_amz['Venta bruta'] != 0)&(df_meli_amz['GTN%'] != 0)\n",
    "gtn = df_meli_amz.loc[meli_amz_mask, 'GTN%']\n",
    "venta_bruta = df_meli_amz.loc[meli_amz_mask, 'Venta bruta']\n",
    "df_meli_amz.loc[meli_amz_mask, 'Venta neta'] = venta_bruta * (1 - gtn)\n",
    "\n",
    "\n",
    "meli_amz_mask2 = (df_meli_amz['(L) Retailer'] != '0') & (df_meli_amz['Venta bruta'] != 0)&(df_meli_amz['GTN%'] == 0)\n",
    "gtn = np.full(len(meli_amz_mask2), 0.74)\n",
    "venta_bruta = df_meli_amz.loc[meli_amz_mask2, 'Venta bruta']\n",
    "df_meli_amz.loc[meli_amz_mask2, 'Venta neta'] = venta_bruta * (1 - 0.0714)\n",
    "\n",
    "\n",
    "ruta_fx_rate = r'C:\\Users\\SSN0609\\OneDrive - Stanley Black & Decker\\Dashboards LAG\\Data Flow\\Shares Information for Projects\\FX Rate\\FX_Rate.xlsx'\n",
    "\n",
    "print(\"ok\")\n",
    "df_fx_rate = pd.read_excel(ruta_fx_rate)\n",
    "df_fx_rate.drop_duplicates(subset=['Fecha', 'Country'], inplace=True) # Agregar inplace=True para modificar el dataframe original\n",
    "df_fx_rate['Country']= df_fx_rate['Country'].apply(lambda x: 'Uruguay' if x=='PUB' else x)\n",
    "\n",
    "df_fx_rate['Fecha'] = pd.to_datetime(df_fx_rate['Fecha'])\n",
    "df_fx_rate['fecha_my'] = df_fx_rate['Fecha'].dt.strftime('%m%Y')\n",
    "df_fx_rate = df_fx_rate[df_fx_rate['Country'].isin(df_meli_amz['Country']) \n",
    "                          & df_fx_rate['fecha_my'].isin(df_meli_amz['fecha_my'])]\n",
    "\n",
    "df_meli_amz = pd.merge(df_meli_amz, df_fx_rate[['fecha_my', 'Country', 'Adjusted Rate']], on=[\"fecha_my\", \"Country\"], how='left')\n",
    "try:\n",
    "    df_meli_amz['Venta_neta_usd'] = df_meli_amz['Venta neta'] / df_meli_amz['Adjusted Rate']\n",
    "except:\n",
    "    df_meli_amz['Venta_neta_usd'] = df_meli_amz['Venta neta']\n"
   ]
  },
  {
   "cell_type": "code",
   "execution_count": null,
   "metadata": {},
   "outputs": [
    {
     "name": "stdout",
     "output_type": "stream",
     "text": [
      "total vacios meli_amz\n",
      "\n",
      "total vacios neta meli_amz:30046\n",
      "total vacios bruta meli_amz:30046\n",
      "\n",
      "total nums meli_amz\n",
      "\n",
      "total num neta meli_amz:565048\n",
      "total num bruta meli_amz:565048\n",
      "\n",
      "total registros meli_amz\n",
      "total num neta meli_amz:595094=595094\n",
      "595094\n"
     ]
    }
   ],
   "source": [
    "vacio_bruta_meli_amz= df_meli_amz.loc[df_meli_amz['Venta bruta']==0]\n",
    "num_bruta_meli_amz=df_meli_amz.loc[df_meli_amz['Venta bruta']!=0]\n",
    "\n",
    "vacio_neta_meli_amz= df_meli_amz.loc[df_meli_amz['Venta neta']==0]\n",
    "num_neta_meli_amz=df_meli_amz.loc[df_meli_amz['Venta neta']!=0]\n",
    "\n",
    "\n",
    "\n",
    "print(\"total vacios meli_amz\\n\")\n",
    "print(f\"total vacios neta meli_amz:{len(vacio_neta_meli_amz)}\")\n",
    "print(f\"total vacios bruta meli_amz:{len(vacio_bruta_meli_amz)}\\n\")\n",
    "\n",
    "\n",
    "print(\"total nums meli_amz\\n\")\n",
    "print(f\"total num neta meli_amz:{len(num_neta_meli_amz)}\")\n",
    "print(f\"total num bruta meli_amz:{len(num_bruta_meli_amz)}\\n\")\n",
    "\n",
    "\n",
    "print(\"total registros meli_amz\")\n",
    "print(f\"total num neta meli_amz:{len(df_amz)+len(df_meli)}={len(df_meli_amz)}\")\n",
    "print(f\"{len(num_neta_meli_amz)+len(vacio_neta_meli_amz)}\")"
   ]
  },
  {
   "cell_type": "markdown",
   "metadata": {},
   "source": [
    "# Actualización"
   ]
  },
  {
   "cell_type": "code",
   "execution_count": null,
   "metadata": {},
   "outputs": [
    {
     "data": {
      "text/plain": [
       "Index(['num_fila', 'Date', '(L) Retailer', '(L) Local', '(L) Cadena',\n",
       "       'canal_venta', '(I) SBU', '(I) MARCA', '(E) Marca', '(I) NPI',\n",
       "       '(I) GPP Division', '(I) GPP Division Cod.', '(I) GPP Category',\n",
       "       '(I) GPP Category Cod.', '(I) GPP Portfolio', '(I) GPP Portfolio Cod.',\n",
       "       '(I) Producto Interno', '(I) Código Producto Interno',\n",
       "       '(I) OGSM Strategy', '(I) CORD / CORDLESS / COMB / NEUM', 'Venta neta',\n",
       "       'Venta bruta', 'Venta costo', 'Unidades vendidas',\n",
       "       'Volumen vendido (Capacidad 1)', 'Precio Publico Estimado',\n",
       "       'Tipo de dato', 'Country', 'concat_update', 'concat_update_meli_amz',\n",
       "       'Fecha', 'Holder', 'fecha_my', 'GTN%', 'Adjusted Rate',\n",
       "       'Venta_neta_usd'],\n",
       "      dtype='object')"
      ]
     },
     "execution_count": 27,
     "metadata": {},
     "output_type": "execute_result"
    }
   ],
   "source": [
    "df_meli_amz.columns"
   ]
  },
  {
   "cell_type": "code",
   "execution_count": 27,
   "metadata": {},
   "outputs": [
    {
     "data": {
      "text/plain": [
       "array(['E-commerce'], dtype=object)"
      ]
     },
     "execution_count": 27,
     "metadata": {},
     "output_type": "execute_result"
    }
   ],
   "source": [
    "df_meli_amz['canal_venta'].unique()"
   ]
  },
  {
   "cell_type": "code",
   "execution_count": 78,
   "metadata": {},
   "outputs": [],
   "source": [
    "#Guardar\n",
    "\n",
    "#Local\n",
    "ruta_meli_amz_historico_local=r'C:\\Users\\SSN0609\\Documents\\Dashboards LAG PC LOCAL\\Data Flow\\Datamind\\meli_amz_historico.csv'\n",
    "df_meli_amz.to_csv(ruta_meli_amz_historico_local)\n",
    "\n",
    "#Drive\n",
    "ruta_meli_amz_historico_local=r'C:\\Users\\SSN0609\\OneDrive - Stanley Black & Decker\\Dashboards LAG\\Data Flow\\Datamind\\Data Flow\\meli_amz_historico.csv'\n",
    "df_meli_amz.to_csv(ruta_meli_amz_historico_local)\n"
   ]
  }
 ],
 "metadata": {
  "kernelspec": {
   "display_name": "Python 3",
   "language": "python",
   "name": "python3"
  },
  "language_info": {
   "codemirror_mode": {
    "name": "ipython",
    "version": 3
   },
   "file_extension": ".py",
   "mimetype": "text/x-python",
   "name": "python",
   "nbconvert_exporter": "python",
   "pygments_lexer": "ipython3",
   "version": "3.12.2"
  }
 },
 "nbformat": 4,
 "nbformat_minor": 2
}
