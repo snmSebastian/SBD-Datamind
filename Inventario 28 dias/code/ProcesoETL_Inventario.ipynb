{
 "cells": [
  {
   "cell_type": "markdown",
   "metadata": {},
   "source": [
    "# Librerias"
   ]
  },
  {
   "cell_type": "markdown",
   "metadata": {},
   "source": []
  },
  {
   "cell_type": "code",
   "execution_count": 28,
   "metadata": {},
   "outputs": [],
   "source": [
    "#Liberia\n",
    "import pandas as pd\n",
    "\n",
    "#Permite buscar y recuperar una lista de nombres de archivos que coinciden con un patrón específico de nombre\n",
    "#de archivo en un directorio o en una jerarquía de directorios.\n",
    "import glob\n",
    "\n",
    "import numpy as np\n",
    "import os\n",
    "from datetime import datetime, timedelta\n",
    "\n",
    "\n"
   ]
  },
  {
   "cell_type": "markdown",
   "metadata": {},
   "source": [
    "# Extracción datos"
   ]
  },
  {
   "cell_type": "code",
   "execution_count": 29,
   "metadata": {},
   "outputs": [],
   "source": [
    "paht_data_arg= r'C:\\Users\\SSN0609\\Documents\\Dashboards LAG PC LOCAL\\Data Flow\\Datamind\\Inventario 28 dias\\Data\\Inventario_Argentina.xlsx'\n",
    "df_arg=pd.read_excel(paht_data_arg)\n",
    "\n",
    "paht_data_chi= r'C:\\Users\\SSN0609\\Documents\\Dashboards LAG PC LOCAL\\Data Flow\\Datamind\\Inventario 28 dias\\Data\\Inventario_Chile.xlsx'\n",
    "df_chi=pd.read_excel(paht_data_chi)\n",
    "\n",
    "paht_data_mex= r'C:\\Users\\SSN0609\\Documents\\Dashboards LAG PC LOCAL\\Data Flow\\Datamind\\Inventario 28 dias\\Data\\Inventario_Mexico.xlsx'\n",
    "df_mex=pd.read_excel(paht_data_mex)\n",
    "\n",
    "paht_data_per= r'C:\\Users\\SSN0609\\Documents\\Dashboards LAG PC LOCAL\\Data Flow\\Datamind\\Inventario 28 dias\\Data\\Inventario_Peru.xlsx'\n",
    "df_per=pd.read_excel(paht_data_per)\n",
    "\n"
   ]
  },
  {
   "cell_type": "code",
   "execution_count": 30,
   "metadata": {},
   "outputs": [],
   "source": [
    " \n",
    "\n",
    "#se crea columna asignando pais\n",
    "df_chi['Country'] = 'Chile'\n",
    "df_per['Country'] = 'Peru'\n",
    "df_mex['Country'] = 'Mexico'\n",
    "df_arg['Country'] = df_arg['(L) Retailer'].apply(lambda x: 'Uruguay' if 'Uruguay' in x else 'Argentina')\n",
    "\n"
   ]
  },
  {
   "cell_type": "markdown",
   "metadata": {},
   "source": [
    "# Transformacion"
   ]
  },
  {
   "cell_type": "markdown",
   "metadata": {},
   "source": [
    "## Alineacion de columnas\n",
    "Esto para poder concatenar todos los df en uno solo"
   ]
  },
  {
   "cell_type": "code",
   "execution_count": 31,
   "metadata": {},
   "outputs": [],
   "source": [
    "\n",
    "#Funcion que inserta columna vacia \n",
    "def crear_columnas_vacias(df, columnas, posiciones):\n",
    "    for col, pos in zip(columnas, posiciones):\n",
    "        df.insert(loc=pos, column=col, value='')\n",
    "\n",
    "\n",
    "#------------\n",
    "# Peru\n",
    "columnas_vacias = [\"vacia3\"]\n",
    "posiciones = [3]\n",
    "crear_columnas_vacias(df_per, columnas_vacias, posiciones)\n",
    "\n",
    "\n",
    "#------------\n",
    "# Argentina\n",
    "columnas_vacias = [\"vacia3\"]\n",
    "posiciones = [3]\n",
    "crear_columnas_vacias(df_arg, columnas_vacias, posiciones)"
   ]
  },
  {
   "cell_type": "code",
   "execution_count": 32,
   "metadata": {},
   "outputs": [],
   "source": [
    "col_per=df_per.columns.to_list()\n",
    "col_arg=df_arg.columns.to_list()\n",
    "col_mex=df_mex.columns.to_list()\n",
    "col_chi = df_chi.columns.to_list()\n",
    "\n",
    "dict_renombres_per = {nombre_per: nombre_chi for nombre_per, nombre_chi in zip(col_per, col_chi)}\n",
    "dict_renombres_arg = {nombre_arg: nombre_chi for nombre_arg, nombre_chi in zip(col_arg, col_chi)}\n",
    "dict_renombres_mex = {nombre_mex: nombre_chi for nombre_mex, nombre_chi in zip(col_mex, col_chi)}\n",
    "\n",
    "\n",
    "df_per.rename(columns=dict_renombres_per, inplace=True)  # renombrar las columnas utilizando el diccionario\n",
    "df_mex.rename(columns=dict_renombres_mex, inplace=True)  # renombrar las columnas utilizando el diccionario\n",
    "df_arg.rename(columns=dict_renombres_arg, inplace=True)  # renombrar las columnas utilizando el diccionario\n"
   ]
  },
  {
   "cell_type": "markdown",
   "metadata": {},
   "source": [
    "## df_inventario\n",
    "se concatenan la inf de : df_mex df_arg df_per df_chi\n",
    "\n",
    "este contiene la data de los inventarios de todos los paises"
   ]
  },
  {
   "cell_type": "code",
   "execution_count": 33,
   "metadata": {},
   "outputs": [],
   "source": [
    "df_inventario =pd.concat([df_chi,df_mex,df_arg,df_per],axis=0,ignore_index=True)\n"
   ]
  },
  {
   "cell_type": "code",
   "execution_count": 41,
   "metadata": {},
   "outputs": [],
   "source": [
    "#Tratamineto Nulos\n",
    "df_inventario['(E) Marca']=df_inventario['(E) Marca'].fillna('vacio').replace('','vacio')\n",
    "df_inventario['(I) MARCA']=df_inventario['(I) MARCA'].fillna('vacio').replace('','vacio')\n",
    "\n",
    "df_inventario['(E) Marca']=df_inventario['(E) Marca'].str.lower()\n",
    "df_inventario['(I) MARCA']=df_inventario['(I) MARCA'].str.lower()\n",
    "\n",
    "\n",
    "df_inventario.rename(columns={'(L) TIENDA FISICA /  ECOMMERCE':'canal_venta'},inplace=True)\n",
    "df_inventario['canal_venta']=df_inventario['canal_venta'].fillna('vacio').replace('','vacio')\n",
    "df_inventario['canal_venta']=df_inventario['canal_venta'].str.lower()\n",
    "\n",
    "\n",
    "df_inventario['(I) SBU']=df_inventario['(I) SBU'].fillna('oth').replace(['',' ','no definido','vacio','nan'],'oth')\n",
    "\n",
    "df_inventario['(L) Local']=df_inventario['(L) Local'].str.lower()\n",
    "df_inventario['(L) Retailer']=df_inventario['(L) Retailer'].str.lower()\n",
    "\n",
    "\n"
   ]
  },
  {
   "cell_type": "code",
   "execution_count": 42,
   "metadata": {},
   "outputs": [],
   "source": [
    "lst_marca= [  \n",
    " 'facom', 'iar expert', 'powers', 'troy-bilt', 'yard machine', 'no usar' ,\n",
    " 'stanley', 'dewalt', 'black+decker', 'irwin', 'proto','bostitch', 'fatmax', 'porter cable', \n",
    "'lenox', 'craftsman',   'gridest' \n",
    "]\n",
    "\n",
    "df_inventario['(I) MARCA']=np.where((df_inventario['(I) MARCA']=='vacio')&(df_inventario['(E) Marca']!='vacio'),\n",
    "                                    df_inventario['(I) MARCA']==df_inventario['(E) Marca'],\n",
    "                                    df_inventario['(I) MARCA'])\n",
    "correspondencias = {\n",
    "    'black+decker': ['b/d','black & de', 'black and decker', 'black&decker', 'black & decker', 'black+decker', 'black+deck', 'black + decker', 'b&d', 'b+d', 'black decker', 'black-d', 'black&deck'],\n",
    "    'dewalt': ['dewalt', 'de walt'],\n",
    "    'fatmax': ['stanley fatmax', 'fat max', 'fatmax'],\n",
    "    'bostitch': ['bosch', 'bostitch', 'bostitch office'],\n",
    "    'craftsman':['craftsman','craftman'],\n",
    "    'no usar': ['einhell','sierra','geo','samoa','smart','no usar']\n",
    "}\n",
    "\n",
    "\n",
    "df_inventario['(I) MARCA']=df_inventario['(I) MARCA'].apply(lambda x: next((clave for clave, valor in correspondencias.items() if x in valor),x))\n",
    "df_inventario['(I) MARCA']=df_inventario['(I) MARCA'].apply(lambda x: 'other' if x not in lst_marca else x)\n",
    "\n"
   ]
  },
  {
   "cell_type": "code",
   "execution_count": 43,
   "metadata": {},
   "outputs": [],
   "source": [
    "lst_canal = 'internet|online|distancia|digital|virtual|ecommerce|e-com'\n",
    "lst_retailer = 'mercado libre|e-comm|ecommerce|mercadolibre|amazon'\n",
    "\n",
    "mask_retailer = df_inventario['(L) Retailer'].str.contains(lst_retailer)\n",
    "mask_local=df_inventario['(L) Local'].str.contains(lst_retailer)\n",
    "mask_ecommerce=(mask_retailer | mask_local)\n",
    "\n",
    "df_inventario.loc[mask_ecommerce,'canal_venta']='ecommerce'\n",
    "\n",
    "df_inventario['canal_venta']=df_inventario['canal_venta'].replace(['vacio','moderno','tradicional','0','tienda'],'store')\n",
    "df_inventario['canal_venta']=df_inventario['canal_venta'].replace(['ecommerce','e-commerce'],'e-commerce')\n",
    "\n",
    "\n",
    "\n"
   ]
  },
  {
   "cell_type": "code",
   "execution_count": 44,
   "metadata": {},
   "outputs": [
    {
     "data": {
      "text/plain": [
       "array(['store', 'e-commerce'], dtype=object)"
      ]
     },
     "execution_count": 44,
     "metadata": {},
     "output_type": "execute_result"
    }
   ],
   "source": [
    "df_inventario['canal_venta'].unique()"
   ]
  },
  {
   "cell_type": "markdown",
   "metadata": {},
   "source": [
    "# Guardar y actualizar"
   ]
  },
  {
   "cell_type": "code",
   "execution_count": null,
   "metadata": {},
   "outputs": [],
   "source": [
    "\n",
    "# guardar archivo en el pc local\n",
    "ruta_local_archivo_csv = r'C:\\Users\\SSN0609\\Documents\\Dashboards LAG PC LOCAL\\Data Flow\\Datamind\\Data Flow\\df_datamind_inventario.csv'\n",
    "df_inventario.to_csv(ruta_local_archivo_csv, index=False)\n",
    "\n",
    "\n",
    "# Guardar archivo en el drive\n",
    "ruta_drive_archivo_csv = r'C:\\Users\\SSN0609\\OneDrive - Stanley Black & Decker\\Dashboards LAG\\Data Flow\\Datamind\\Data Flow\\df_datamind_inventario.csv'\n",
    "df_inventario.to_csv(ruta_drive_archivo_csv, index=False)\n"
   ]
  }
 ],
 "metadata": {
  "kernelspec": {
   "display_name": "Python 3",
   "language": "python",
   "name": "python3"
  },
  "language_info": {
   "codemirror_mode": {
    "name": "ipython",
    "version": 3
   },
   "file_extension": ".py",
   "mimetype": "text/x-python",
   "name": "python",
   "nbconvert_exporter": "python",
   "pygments_lexer": "ipython3",
   "version": "3.12.2"
  }
 },
 "nbformat": 4,
 "nbformat_minor": 2
}
